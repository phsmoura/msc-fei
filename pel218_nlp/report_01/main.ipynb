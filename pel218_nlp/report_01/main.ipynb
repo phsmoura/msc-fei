{
 "metadata": {
  "language_info": {
   "codemirror_mode": {
    "name": "ipython",
    "version": 3
   },
   "file_extension": ".py",
   "mimetype": "text/x-python",
   "name": "python",
   "nbconvert_exporter": "python",
   "pygments_lexer": "ipython3",
   "version": "3.8.5"
  },
  "orig_nbformat": 2,
  "kernelspec": {
   "name": "python385jvsc74a57bd031f2aee4e71d21fbe5cf8b01ff0e069b9275f58929596ceb00d14d90e3e16cd6",
   "display_name": "Python 3.8.5 64-bit ('usr')",
   "language": "python"
  },
  "metadata": {
   "interpreter": {
    "hash": "31f2aee4e71d21fbe5cf8b01ff0e069b9275f58929596ceb00d14d90e3e16cd6"
   }
  }
 },
 "nbformat": 4,
 "nbformat_minor": 2,
 "cells": [
  {
   "cell_type": "code",
   "execution_count": null,
   "metadata": {},
   "outputs": [],
   "source": [
    "import os\n",
    "from re import sub\n",
    "from collections import defaultdict\n",
    "from matplotlib import pyplot as plt\n",
    "\n",
    "ISO_BOOKS_DIR = 'Brazilian_Portugese_Corpus/'\n",
    "ISO_BOOKS = list(os.walk(ISO_BOOKS_DIR))[0][2]\n",
    "UTF8_BOOKS_DIR = 'corpus/'"
   ]
  },
  {
   "cell_type": "code",
   "execution_count": null,
   "metadata": {
    "tags": []
   },
   "outputs": [],
   "source": [
    "def get_utf8_books():\n",
    "    if not os.path.isdir(UTF8_BOOKS_DIR):\n",
    "        os.mkdir(UTF8_BOOKS_DIR)\n",
    "\n",
    "    for book in ISO_BOOKS:\n",
    "        book = book.replace(' ', '\\ ')\n",
    "        os.system(f'iconv -f ISO-8859-1 -t UTF-8 {ISO_BOOKS_DIR}/{book} -o {UTF8_BOOKS_DIR}/{book}')\n",
    "\n",
    "    return list(os.walk(UTF8_BOOKS_DIR))[0][2]\n",
    "    \n",
    "def get_words(book):\n",
    "    with open(UTF8_BOOKS_DIR + book, 'r') as file:\n",
    "        text = file.readlines()\n",
    "\n",
    "    text = ''.join(text)\n",
    "    text = text.replace('\\n',' ')\n",
    "    text = sub('[ -;.!?,:\\\\x0c]+', ' ', text)\n",
    "    words = [word.lower() for word in text.split()]\n",
    "    return words\n",
    "\n",
    "def count_words(words):\n",
    "    count = defaultdict(lambda: 0)\n",
    "    for word in words:\n",
    "        count[word] += 1\n",
    "\n",
    "    return count\n",
    "\n",
    "def plot_from_count(count):\n",
    "    values = list(count.values())\n",
    "    values.sort(reverse=True)\n",
    "    fig = plt.figure() \n",
    "    ax = fig.add_subplot(1,1,1)\n",
    "    ax.set_yscale('log')\n",
    "    ax.set_xscale('log')\n",
    "    ax.plot(values)"
   ]
  },
  {
   "cell_type": "code",
   "execution_count": null,
   "metadata": {},
   "outputs": [],
   "source": [
    "books = get_utf8_books()\n",
    "\n",
    "print(books == ISO_BOOKS)\n",
    "\n",
    "for book in books:\n",
    "    count = count_words(get_words(book))"
   ]
  },
  {
   "cell_type": "code",
   "execution_count": null,
   "metadata": {},
   "outputs": [],
   "source": [
    "plot_from_count(count)"
   ]
  }
 ]
}