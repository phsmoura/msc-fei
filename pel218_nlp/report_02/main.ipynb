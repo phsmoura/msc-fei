{
 "cells": [
  {
   "cell_type": "code",
   "execution_count": 1,
   "id": "00846b7a",
   "metadata": {},
   "outputs": [],
   "source": [
    "from format_names import FormatName\n",
    "from full_number_name_pt import WriteNumber"
   ]
  },
  {
   "cell_type": "markdown",
   "id": "d6e158da",
   "metadata": {},
   "source": [
    "## Check name format"
   ]
  },
  {
   "cell_type": "code",
   "execution_count": 2,
   "id": "1208e1f8",
   "metadata": {},
   "outputs": [
    {
     "data": {
      "text/plain": [
       "'Lucas Lopes'"
      ]
     },
     "execution_count": 2,
     "metadata": {},
     "output_type": "execute_result"
    }
   ],
   "source": [
    "name = FormatName('lucas LoPes')\n",
    "name.title()"
   ]
  },
  {
   "cell_type": "code",
   "execution_count": 3,
   "id": "4266ad26",
   "metadata": {},
   "outputs": [
    {
     "data": {
      "text/plain": [
       "'Centro Universitário Fei'"
      ]
     },
     "execution_count": 3,
     "metadata": {},
     "output_type": "execute_result"
    }
   ],
   "source": [
    "name = FormatName('Centro uniVerSitáriO fei')\n",
    "name.title()"
   ]
  },
  {
   "cell_type": "code",
   "execution_count": 4,
   "id": "dddbfd79",
   "metadata": {},
   "outputs": [
    {
     "data": {
      "text/plain": [
       "'Autômato De Estado Finito'"
      ]
     },
     "execution_count": 4,
     "metadata": {},
     "output_type": "execute_result"
    }
   ],
   "source": [
    "name = FormatName('autômato de estado finito')\n",
    "name.title()"
   ]
  },
  {
   "cell_type": "code",
   "execution_count": 5,
   "id": "63af9668",
   "metadata": {},
   "outputs": [
    {
     "data": {
      "text/plain": [
       "'Pedro Da Silva'"
      ]
     },
     "execution_count": 5,
     "metadata": {},
     "output_type": "execute_result"
    }
   ],
   "source": [
    "name = FormatName('Pedro DA SILVA')\n",
    "name.title()"
   ]
  },
  {
   "cell_type": "markdown",
   "id": "5a3e648a",
   "metadata": {},
   "source": [
    "## Check printing numbers"
   ]
  },
  {
   "cell_type": "code",
   "execution_count": 6,
   "id": "b46e0b42",
   "metadata": {},
   "outputs": [
    {
     "data": {
      "text/plain": [
       "'cento e quarenta e dois'"
      ]
     },
     "execution_count": 6,
     "metadata": {},
     "output_type": "execute_result"
    }
   ],
   "source": [
    "n = WriteNumber(142)\n",
    "n.get_number_name()"
   ]
  },
  {
   "cell_type": "code",
   "execution_count": 7,
   "id": "ccf2ce01",
   "metadata": {},
   "outputs": [
    {
     "data": {
      "text/plain": [
       "'zero'"
      ]
     },
     "execution_count": 7,
     "metadata": {},
     "output_type": "execute_result"
    }
   ],
   "source": [
    "n = WriteNumber(0)\n",
    "n.get_number_name()"
   ]
  },
  {
   "cell_type": "code",
   "execution_count": 8,
   "id": "e8647118",
   "metadata": {},
   "outputs": [
    {
     "data": {
      "text/plain": [
       "'quinze'"
      ]
     },
     "execution_count": 8,
     "metadata": {},
     "output_type": "execute_result"
    }
   ],
   "source": [
    "n = WriteNumber(15)\n",
    "n.get_number_name()"
   ]
  },
  {
   "cell_type": "code",
   "execution_count": 9,
   "id": "7167ea55",
   "metadata": {},
   "outputs": [
    {
     "data": {
      "text/plain": [
       "'cinquenta e quatro'"
      ]
     },
     "execution_count": 9,
     "metadata": {},
     "output_type": "execute_result"
    }
   ],
   "source": [
    "n = WriteNumber(54)\n",
    "n.get_number_name()"
   ]
  }
 ],
 "metadata": {
  "kernelspec": {
   "display_name": "Python 3",
   "language": "python",
   "name": "python3"
  },
  "language_info": {
   "codemirror_mode": {
    "name": "ipython",
    "version": 3
   },
   "file_extension": ".py",
   "mimetype": "text/x-python",
   "name": "python",
   "nbconvert_exporter": "python",
   "pygments_lexer": "ipython3",
   "version": "3.8.5"
  }
 },
 "nbformat": 4,
 "nbformat_minor": 5
}
